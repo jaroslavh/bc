{
 "cells": [
  {
   "cell_type": "code",
   "execution_count": null,
   "metadata": {},
   "outputs": [],
   "source": [
    "%matplotlib inline\n",
    "import numpy as np                                                                                                 \n",
    "import matplotlib.pyplot as plt                                                                                    \n",
    "import pandas as pd\n",
    "\n",
    "import bc_utils as butils\n",
    "\n",
    "from scipy.spatial import distance \n",
    "from mpl_toolkits import mplot3d\n",
    "\n",
    "from sklearn.model_selection import train_test_split                                                               \n",
    "from sklearn.preprocessing import StandardScaler                                                                   \n",
    "from sklearn.neighbors import KNeighborsClassifier "
   ]
  },
  {
   "cell_type": "markdown",
   "metadata": {},
   "source": [
    "# 1. Load data"
   ]
  },
  {
   "cell_type": "code",
   "execution_count": null,
   "metadata": {
    "scrolled": true
   },
   "outputs": [],
   "source": [
    "# Read dataset to pandas dataframe\n",
    "# current datasets ready for testing:\n",
    "#   blobs.csv\n",
    "#   blobs_3d.csv\n",
    "#   iris.csv\n",
    "#   mfeat-mor.csv\n",
    "#   mfeat-zer.csv\n",
    "#   mfeat-pix.csv\n",
    "#   mfeat-fac.csv\n",
    "#   mfeat-fou.csv\n",
    "#   mfeat-kar.csv\n",
    "#   noisy_circles.csv\n",
    "#   noisy_circles_3d.csv\n",
    "#   overlap.csv\n",
    "#   pendigit.csv\n",
    "#   moons.csv\n",
    "\n",
    "df = pd.read_csv(\"data/overlap.csv\", index_col=0)"
   ]
  },
  {
   "cell_type": "markdown",
   "metadata": {},
   "source": [
    "# 2. Plot data\n",
    "\n",
    "Visualize data if they have 2 or 3 features."
   ]
  },
  {
   "cell_type": "code",
   "execution_count": null,
   "metadata": {},
   "outputs": [],
   "source": [
    "grouped = df.groupby('cluster')\n",
    "for group in grouped:\n",
    "    print(group)"
   ]
  },
  {
   "cell_type": "code",
   "execution_count": null,
   "metadata": {
    "scrolled": false
   },
   "outputs": [],
   "source": [
    "colors = {0:'red', 1:'blue', 2:'green'}\n",
    "\n",
    "if (df.columns.size == 3):\n",
    "    fix, ax = plt.subplots()\n",
    "    grouped = df.groupby('cluster')\n",
    "    \n",
    "    i = 0\n",
    "    for key, group in grouped:\n",
    "        group.plot(ax=ax, kind='scatter', x='x', y='y',\n",
    "                   label=key, color=colors[i])\n",
    "        i = i + 1\n",
    "    plt.show()\n",
    "elif (df.columns.size == 4):\n",
    "    fig = plt.figure()\n",
    "    ax = fig.add_subplot(111, projection='3d')\n",
    "    grouped = df.groupby('cluster')\n",
    "\n",
    "    i = 0\n",
    "    for key, group in grouped:\n",
    "        ax.scatter(group['x'], group['y'], group['z'], color=colors[i])\n",
    "        i = i + 1\n",
    "    plt.show()\n",
    "else:\n",
    "    print(\"There is no good visualisation for this dataset - \" + str(df.columns.size) + \" features.\")\n",
    "    "
   ]
  },
  {
   "cell_type": "code",
   "execution_count": null,
   "metadata": {
    "scrolled": true
   },
   "outputs": [],
   "source": [
    "#creating test datasets\n",
    "names = set(df['cluster'])\n",
    "\n",
    "dataframes = {}\n",
    "for name in names:\n",
    "    tmp_df = df[df['cluster'] == name]\n",
    "    dataframes[name] = butils.TestDf(tmp_df)\n",
    "    \n",
    "#all data for testing\n",
    "full_test_df = pd.DataFrame()\n",
    "\n",
    "for name in names:\n",
    "    full_test_df = full_test_df.append(dataframes[name].test_df)"
   ]
  },
  {
   "cell_type": "code",
   "execution_count": null,
   "metadata": {},
   "outputs": [],
   "source": [
    "def benchmark_result_plots(matrices, titles, headers, rotation_num):\n",
    "    \"\"\"\n",
    "    parameters:\n",
    "    matrices - list of 2d np.array\n",
    "    titles - list of graph titles\n",
    "    names - list of labels\n",
    "    rotation_num - number of rotation - for generating png files\n",
    "    \"\"\"\n",
    "    \n",
    "    fig, ((ax1, ax2), (ax3, ax4), (ax5, ax6)) = plt.subplots(3,2, figsize=(20,30))\n",
    "    ax_list = [ax1, ax2, ax3, ax4, ax5, ax6]\n",
    "    ax6.set_visible(False)\n",
    "    \n",
    "    for index in range(0, len(matrices)):\n",
    "        tick_labels = list(headers[index])\n",
    "        ax = ax_list[index]\n",
    "        ax.imshow(matrices[index], cmap='binary')\n",
    "\n",
    "        # We want to show all ticks...\n",
    "        ax.set_xticks(np.arange(len(tick_labels)))\n",
    "        ax.set_yticks(np.arange(len(tick_labels)))\n",
    "\n",
    "        # ... and label them with the respective list entries\n",
    "        ax.set_xticklabels(tick_labels, fontsize=16)\n",
    "        ax.set_yticklabels(tick_labels, fontsize=16)\n",
    "\n",
    "        # Rotate the tick labels and set their alignment.\n",
    "        plt.setp(ax.get_xticklabels(), ha=\"right\")\n",
    "\n",
    "        # Loop over data dimensions and create text annotations.\n",
    "        for i in range(len(tick_labels)):\n",
    "            for j in range(len(tick_labels)):\n",
    "                if(matrices[index][i, j] == 0):\n",
    "                    continue\n",
    "                if i == j:\n",
    "                    text = ax.text(j, i, matrices[index][i, j], ha=\"center\", va=\"center\", color=\"g\",\n",
    "                                   weight=\"bold\", fontsize=16)\n",
    "                    continue\n",
    "                else:\n",
    "                    text = ax.text(j, i, matrices[index][i, j], ha=\"center\", va=\"center\", color = \"r\",\n",
    "                                   weight=\"bold\", fontsize=16)\n",
    "            \n",
    "        ax.set_title(titles[index], fontsize=32)\n",
    "    plt.savefig('experiments/exp1/overlap_updated_' + str(rotation_num) + '.png')\n",
    "        "
   ]
  },
  {
   "cell_type": "code",
   "execution_count": null,
   "metadata": {
    "scrolled": true
   },
   "outputs": [],
   "source": [
    "for i in range(0,5):\n",
    "    matrices = butils.get_method_results(full_test_df, dataframes, distance.euclidean, None)\n",
    "\n",
    "    matrix_full = matrices[0]\n",
    "    matrix_one_shot = matrices[1]\n",
    "    matrix_random_selection = matrices[2]\n",
    "    matrix_greedy_select = matrices[3]\n",
    "    matrix_modified = matrices[4]\n",
    "\n",
    "    precision_results = {\"full_medoids\" : butils.get_hit_miss_rate(matrix_full),\n",
    "                         \"one_shot_medoids\" : butils.get_hit_miss_rate(matrix_one_shot),\n",
    "                         \"random_select\" : butils.get_hit_miss_rate(matrix_random_selection),\n",
    "                         \"greedy_select\" : butils.get_hit_miss_rate(matrix_greedy_select),\n",
    "                         \"medoids_modified\" : butils.get_hit_miss_rate(matrix_modified)}\n",
    "\n",
    "    print(\"Rates for each method:\")\n",
    "    evaluation_sum = 0\n",
    "    minimal_rate = \"\"\n",
    "    for key in precision_results:\n",
    "        print(key + \": \" + str(precision_results[key]))\n",
    "        if precision_results[key] < minimal_rate:\n",
    "            minimal_rate = key\n",
    "        \n",
    "    print(\"Method that got the best result is \" + minimal_rate)\n",
    "    evaluation_sum = evaluation_sum + precision_results[minimal_rate]\n",
    "    \n",
    "    graph_names = ['A', 'B', 'C']\n",
    "    print(\"Creating plots.\")\n",
    "    benchmark_result_plots([matrix_modified, matrix_full, matrix_one_shot, matrix_random_selection, matrix_greedy_select],\n",
    "                       ['Delta-Medoids Modified', 'Delta-Medoids Full', 'Delta-Medoids One Shot', 'Random Selection', 'Greedy Selection'],\n",
    "                       [graph_names, graph_names, graph_names, graph_names, graph_names], i)\n",
    "    \n",
    "    for key in dataframes:\n",
    "        dataframes[key].rotate()\n",
    "    print(\"\\n\\nDataset Rotated!\\n\")"
   ]
  }
 ],
 "metadata": {
  "kernelspec": {
   "display_name": "Python 3",
   "language": "python",
   "name": "python3"
  },
  "language_info": {
   "codemirror_mode": {
    "name": "ipython",
    "version": 2
   },
   "file_extension": ".py",
   "mimetype": "text/x-python",
   "name": "python",
   "nbconvert_exporter": "python",
   "pygments_lexer": "ipython2",
   "version": "2.7.15"
  }
 },
 "nbformat": 4,
 "nbformat_minor": 2
}
