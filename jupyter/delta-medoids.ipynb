{
 "cells": [
  {
   "cell_type": "markdown",
   "metadata": {},
   "source": [
    "Importing needed modules:"
   ]
  },
  {
   "cell_type": "code",
   "execution_count": null,
   "metadata": {},
   "outputs": [],
   "source": [
    "import numpy as np\n",
    "import pandas as pd\n",
    "import matplotlib as pyplot\n",
    "\n",
    "import bc_utils as butils\n",
    "from sklearn.datasets.samples_generator import make_blobs\n",
    "from scipy.spatial import distance"
   ]
  },
  {
   "cell_type": "markdown",
   "metadata": {},
   "source": [
    "Creating a test cluster:"
   ]
  },
  {
   "cell_type": "code",
   "execution_count": null,
   "metadata": {},
   "outputs": [],
   "source": [
    "X, y = make_blobs(n_samples=300, centers=2, cluster_std=1.9, n_features=2)\n",
    "df = pd.DataFrame(dict(x=X[:,0], y=X[:,1]))"
   ]
  },
  {
   "cell_type": "markdown",
   "metadata": {},
   "source": [
    "Plotting test cluster for visualisation:"
   ]
  },
  {
   "cell_type": "code",
   "execution_count": null,
   "metadata": {},
   "outputs": [],
   "source": [
    "df.head()"
   ]
  },
  {
   "cell_type": "code",
   "execution_count": null,
   "metadata": {
    "scrolled": true
   },
   "outputs": [],
   "source": [
    "plt = df.plot(x='x',y='y',kind='scatter', title='Test Cluster')"
   ]
  },
  {
   "cell_type": "code",
   "execution_count": null,
   "metadata": {},
   "outputs": [],
   "source": [
    "def find_best_cluster_representative(cluster, similarity_measure):\n",
    "    #input: np.array(of points)\n",
    "    #returns a tuple\n",
    "    \n",
    "    min_sum = float(\"inf\")\n",
    "    best_repr_index = None\n",
    "    for i in range(len(cluster)):\n",
    "        distance_sum = 0;\n",
    "        for point in cluster:\n",
    "            distance_sum += similarity_measure(cluster[i], point)\n",
    "            if (distance_sum > min_sum):\n",
    "                break\n",
    "        if(distance_sum < min_sum):\n",
    "            min_sum = distance_sum\n",
    "            best_repr_index = i\n",
    "    \n",
    "    return cluster[best_repr_index]\n",
    "\n",
    "def delta_medoids_full(df, delta, similarity_measure):                                                         \n",
    "    \"\"\"Returns subset of input DataFrame, that is a good representation                                            \n",
    "    of given data.                                                                                                 \n",
    "                                                                                                                   \n",
    "    This is a simplified delta-medoids algorithm. It finds out the                                                 \n",
    "    representatives in one pass through the input data. Final representatives                                      \n",
    "    depend on the ordering of input data.                                                                          \n",
    "                                                                                                                   \n",
    "    :param df: in data                                                                                             \n",
    "    :type df: pandas.DataFrame                                                                                     \n",
    "    :param delta: maximum distance of points to be considered similar                                              \n",
    "    :type delta: float                                                                                             \n",
    "    :param similarity_measure: similarity function to be used in algorithm                                         \n",
    "    :type similarity_measure: scipy.spacial.distance                                                               \n",
    "                                                                                                                   \n",
    "    :Example:                                                                                                      \n",
    "    >>> TODO\"\"\"\n",
    "    t = 0\n",
    "    representatives = {}\n",
    "    representatives[t] = set()\n",
    "    clusters = {}\n",
    "    \n",
    "    while True:\n",
    "        print(\"\\n=========== running for t = \" + str(t) + \"============\")\n",
    "        t = t + 1\n",
    "        \n",
    "        #================== RepAssign starts ==================                                                      \n",
    "        for row in df.iterrows():\n",
    "            dist = float(\"inf\")\n",
    "            represenative = None\n",
    "        \n",
    "            point = tuple(row[1])                                                                                      \n",
    "                                                                                                                   \n",
    "            for rep in clusters.keys():\n",
    "                #finding the closest representative to current point\n",
    "                if similarity_measure(point, rep) <= dist:\n",
    "                    representative = rep\n",
    "                    dist = similarity_measure(point, rep)                                                                                              \n",
    "            if dist <= delta:\n",
    "                clusters[representative] = np.vstack((clusters[representative], point))\n",
    "            else:\n",
    "                clusters[point] = np.array(point, ndmin=2)      \n",
    "        #================== RepAssign ends ===================\n",
    "        \n",
    "        representatives[t] = set()\n",
    "        for cluster in clusters.values():\n",
    "            representative = find_best_cluster_representative(cluster, similarity_measure)\n",
    "            print(representative)\n",
    "            representatives[t].add(tuple(representative))\n",
    "        #print(representatives[t])\n",
    "        \n",
    "        if representatives[t] == representatives[t-1]:\n",
    "            break\n",
    "                                                                                                                                                                                                                           \n",
    "    return pd.DataFrame(list(representatives[t]), columns=df.columns.values)"
   ]
  },
  {
   "cell_type": "code",
   "execution_count": null,
   "metadata": {
    "scrolled": true
   },
   "outputs": [],
   "source": [
    "cluster_repr_old = butils.delta_medoids_one_shot(df, 1.5, distance.euclidean)\n",
    "cluster_repr = delta_medoids_full(df, 1.5, distance.euclidean)"
   ]
  },
  {
   "cell_type": "code",
   "execution_count": null,
   "metadata": {},
   "outputs": [],
   "source": [
    "cluster_repr.plot(x='x',y='y',kind='scatter', title='cluster_repr')\n",
    "cluster_repr_old.plot(x='x',y='y',kind='scatter', title='cluster_repr_old')"
   ]
  },
  {
   "cell_type": "code",
   "execution_count": null,
   "metadata": {},
   "outputs": [],
   "source": [
    "a = set([1, 2, 4, 5])\n",
    "a = list(a)\n",
    "a = pd.DataFrame(a)\n",
    "a"
   ]
  },
  {
   "cell_type": "code",
   "execution_count": null,
   "metadata": {},
   "outputs": [],
   "source": []
  }
 ],
 "metadata": {
  "kernelspec": {
   "display_name": "Python 3",
   "language": "python",
   "name": "python3"
  },
  "language_info": {
   "codemirror_mode": {
    "name": "ipython",
    "version": 2
   },
   "file_extension": ".py",
   "mimetype": "text/x-python",
   "name": "python",
   "nbconvert_exporter": "python",
   "pygments_lexer": "ipython2",
   "version": "2.7.15"
  }
 },
 "nbformat": 4,
 "nbformat_minor": 2
}
