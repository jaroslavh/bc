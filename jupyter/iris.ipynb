{
 "cells": [
  {
   "cell_type": "code",
   "execution_count": null,
   "metadata": {},
   "outputs": [],
   "source": [
    "import numpy as np                                                                                                 \n",
    "import matplotlib.pyplot as plt                                                                                    \n",
    "import pandas as pd\n",
    "\n",
    "import bc_utils as butils\n",
    "\n",
    "from scipy.spatial import distance\n",
    "\n",
    "from sklearn.model_selection import train_test_split                                                               \n",
    "from sklearn.preprocessing import StandardScaler                                                                   \n",
    "from sklearn.neighbors import KNeighborsClassifier "
   ]
  },
  {
   "cell_type": "code",
   "execution_count": null,
   "metadata": {
    "scrolled": true
   },
   "outputs": [],
   "source": [
    "# Read dataset to pandas dataframe                                                                                 \n",
    "df = pd.read_csv(\"iris.csv\")\n",
    "df                                                                       "
   ]
  },
  {
   "cell_type": "code",
   "execution_count": null,
   "metadata": {
    "scrolled": true
   },
   "outputs": [],
   "source": [
    "#creating test datasets for iris\n",
    "names = ['setosa', 'versicolor', 'virginica']\n",
    "\n",
    "dataframes = {}\n",
    "for name in names:\n",
    "    tmp_df = df[df['species'] == name]\n",
    "    dataframes[name] = butils.TestDf(tmp_df)\n",
    "\n",
    "full_test_df = pd.DataFrame()\n",
    "for name in names:\n",
    "    full_test_df = full_test_df.append(dataframes[name].test_df)\n",
    "\n",
    "#changing last column name to 'cluster' #TODO do it better\n",
    "cols = list(full_test_df.columns[:-1])\n",
    "cols.append('cluster')\n",
    "full_test_df.columns = cols"
   ]
  },
  {
   "cell_type": "code",
   "execution_count": null,
   "metadata": {},
   "outputs": [],
   "source": [
    "#using delta_medoids_full algorithm\n",
    "results = {}\n",
    "for name in names:\n",
    "    delta_df = dataframes[name].train_df.iloc[:, :-1]\n",
    "\n",
    "    result = butils.delta_medoids_full(delta_df, butils.estimate_delta(delta_df, distance.cosine), distance.cosine)\n",
    "    result['cluster'] = name\n",
    "    results[name] = result\n",
    "    \n",
    "print(results)"
   ]
  },
  {
   "cell_type": "code",
   "execution_count": null,
   "metadata": {},
   "outputs": [],
   "source": [
    "#using delta_medoids_one_shot algorithm\n",
    "results2 = {}\n",
    "for name in names:\n",
    "    delta_df = dataframes[name].train_df.iloc[:, :-1]\n",
    "\n",
    "    result = butils.delta_medoids_one_shot(delta_df, butils.estimate_delta(delta_df, distance.cosine), distance.cosine)\n",
    "    result['cluster'] = name\n",
    "    results2[name] = result\n",
    "    \n",
    "print(results2)"
   ]
  },
  {
   "cell_type": "code",
   "execution_count": null,
   "metadata": {},
   "outputs": [],
   "source": [
    "#creating training DataFrames for comparing oneshot and full delta medoids algorithm\n",
    "train_delta_medoids_full = pd.DataFrame()\n",
    "train_delta_medoids_one_shot = pd.DataFrame()\n",
    "\n",
    "for name in names:\n",
    "    train_delta_medoids_full = train_delta_medoids_full.append(results[name])\n",
    "    train_delta_medoids_one_shot = train_delta_medoids_one_shot.append(results2[name])\n"
   ]
  },
  {
   "cell_type": "code",
   "execution_count": null,
   "metadata": {},
   "outputs": [],
   "source": [
    "def classifyPoints(ref_df, test_df):\n",
    "\n",
    "    X_train = ref_df.iloc[:, :-1].values\n",
    "    y_train = ref_df.iloc[:, -1].values\n",
    "    X_test = test_df.iloc[:, :-1].values\n",
    "    y_test = test_df.iloc[:, -1].values\n",
    "\n",
    "    from sklearn.preprocessing import StandardScaler  \n",
    "    scaler = StandardScaler()  \n",
    "    scaler.fit(X_train)\n",
    "\n",
    "    X_train = scaler.transform(X_train)  \n",
    "    X_test = scaler.transform(X_test)\n",
    "\n",
    "    from sklearn.neighbors import KNeighborsClassifier  \n",
    "    classifier = KNeighborsClassifier(n_neighbors=5)\n",
    "    classifier.fit(X_train, y_train)\n",
    "\n",
    "    y_pred = classifier.predict(X_test)\n",
    "\n",
    "    from sklearn.metrics import classification_report, confusion_matrix  \n",
    "    print(confusion_matrix(y_test, y_pred))  \n",
    "    print(classification_report(y_test, y_pred))"
   ]
  },
  {
   "cell_type": "code",
   "execution_count": null,
   "metadata": {},
   "outputs": [],
   "source": [
    "classifyPoints(train_delta_medoids_full, full_test_df)"
   ]
  },
  {
   "cell_type": "code",
   "execution_count": null,
   "metadata": {},
   "outputs": [],
   "source": [
    "classifyPoints(train_delta_medoids_one_shot, full_test_df)"
   ]
  }
 ],
 "metadata": {
  "kernelspec": {
   "display_name": "Python 3",
   "language": "python",
   "name": "python3"
  },
  "language_info": {
   "codemirror_mode": {
    "name": "ipython",
    "version": 2
   },
   "file_extension": ".py",
   "mimetype": "text/x-python",
   "name": "python",
   "nbconvert_exporter": "python",
   "pygments_lexer": "ipython2",
   "version": "2.7.15"
  }
 },
 "nbformat": 4,
 "nbformat_minor": 2
}
