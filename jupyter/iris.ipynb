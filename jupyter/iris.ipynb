{
 "cells": [
  {
   "cell_type": "code",
   "execution_count": null,
   "metadata": {},
   "outputs": [],
   "source": [
    "import numpy as np                                                                                                 \n",
    "import matplotlib.pyplot as plt                                                                                    \n",
    "import pandas as pd\n",
    "\n",
    "import bc_utils as butils\n",
    "\n",
    "from scipy.spatial import distance\n",
    "\n",
    "from sklearn.model_selection import train_test_split                                                               \n",
    "from sklearn.preprocessing import StandardScaler                                                                   \n",
    "from sklearn.neighbors import KNeighborsClassifier "
   ]
  },
  {
   "cell_type": "code",
   "execution_count": null,
   "metadata": {
    "scrolled": true
   },
   "outputs": [],
   "source": [
    "# Read dataset to pandas dataframe                                                                                 \n",
    "df = pd.read_csv(\"iris.csv\")\n",
    "\n",
    "df.head()                                                                                                                "
   ]
  },
  {
   "cell_type": "code",
   "execution_count": null,
   "metadata": {
    "scrolled": true
   },
   "outputs": [],
   "source": [
    "#creating test datasets for iris\n",
    "names = ['setosa', 'versicolor', 'virginica']\n",
    "\n",
    "dataframes = {}\n",
    "for name in names:\n",
    "    tmp_df = df[df['species'] == name].iloc[:, :-1]\n",
    "    dataframes[name] = butils.TestDf(tmp_df)\n",
    "\n",
    "#trying to estimate delta\n",
    "delta_df = dataframes['setosa'].train_df\n",
    "\n",
    "result = butils.delta_medoids_full(delta_df, butils.estimate_delta(delta_df, distance.cosine), distance.cosine)\n",
    "result"
   ]
  },
  {
   "cell_type": "code",
   "execution_count": null,
   "metadata": {},
   "outputs": [],
   "source": [
    "result2 = butils.delta_medoids_one_shot(delta_df, butils.estimate_delta(delta_df, distance.cosine), distance.cosine)\n",
    "result2"
   ]
  }
 ],
 "metadata": {
  "kernelspec": {
   "display_name": "Python 3",
   "language": "python",
   "name": "python3"
  },
  "language_info": {
   "codemirror_mode": {
    "name": "ipython",
    "version": 2
   },
   "file_extension": ".py",
   "mimetype": "text/x-python",
   "name": "python",
   "nbconvert_exporter": "python",
   "pygments_lexer": "ipython2",
   "version": "2.7.15"
  }
 },
 "nbformat": 4,
 "nbformat_minor": 2
}
