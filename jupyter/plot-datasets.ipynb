{
 "cells": [
  {
   "cell_type": "code",
   "execution_count": null,
   "metadata": {},
   "outputs": [],
   "source": [
    "%matplotlib inline\n",
    "import numpy as np                                                                                                 \n",
    "import matplotlib.pyplot as plt                                                                                    \n",
    "import pandas as pd\n",
    "\n",
    "import bc_utils as butils\n",
    "\n",
    "from scipy.spatial import distance \n",
    "from mpl_toolkits import mplot3d\n",
    "\n",
    "from sklearn.model_selection import train_test_split                                                               \n",
    "from sklearn.preprocessing import StandardScaler                                                                   \n",
    "from sklearn.neighbors import KNeighborsClassifier "
   ]
  },
  {
   "cell_type": "markdown",
   "metadata": {},
   "source": [
    "# 1. Load data"
   ]
  },
  {
   "cell_type": "code",
   "execution_count": null,
   "metadata": {},
   "outputs": [],
   "source": [
    "df_blobs = pd.read_csv(\"data/blobs_3d.csv\", index_col=0)\n",
    "df_overlap = pd.read_csv(\"data/overlap.csv\", index_col=0)\n",
    "df_circles = pd.read_csv(\"data/noisy_circles_3d.csv\", index_col=0)\n",
    "df_moons = pd.read_csv(\"data/moons.csv\", index_col=0)\n",
    "\n",
    "dfs=[df_blobs, df_overlap, df_circles, df_moons]"
   ]
  },
  {
   "cell_type": "code",
   "execution_count": null,
   "metadata": {},
   "outputs": [],
   "source": [
    "fontdict = {'fontsize': 20,\n",
    " 'fontweight' : 500,\n",
    " 'verticalalignment': 'baseline',\n",
    " 'horizontalalignment': 'center'}"
   ]
  },
  {
   "cell_type": "markdown",
   "metadata": {},
   "source": [
    "# 2. Plot data"
   ]
  },
  {
   "cell_type": "code",
   "execution_count": null,
   "metadata": {
    "scrolled": true
   },
   "outputs": [],
   "source": [
    "colors = {0:'red', 1:'blue', 2:'green'}\n",
    "fig = plt.figure(figsize=(20,30))\n",
    "    \n",
    "#blobs\n",
    "ax1 = fig.add_subplot(321, projection='3d')\n",
    "grouped = df_blobs.groupby('cluster')\n",
    "\n",
    "i = 0\n",
    "for key, group in grouped:\n",
    "    ax1.scatter(group['x'], group['y'], group['z'], color=colors[i])\n",
    "    i = i + 1       \n",
    "ax1.set_title('Blobs 3D', fontdict=fontdict)\n",
    "ax1.set_xlabel('x')\n",
    "ax1.set_ylabel('y')\n",
    "ax1.set_zlabel('z')\n",
    "\n",
    "#overlap\n",
    "ax2 = fig.add_subplot(322, projection='3d')\n",
    "grouped = df_overlap.groupby('cluster')\n",
    "\n",
    "i = 0\n",
    "for key, group in grouped:\n",
    "    ax2.scatter(group['x'], group['y'], group['z'], color=colors[i])\n",
    "    i = i + 1\n",
    "ax2.set_title('Overlap', fontdict=fontdict)\n",
    "ax2.set_xlabel('x')\n",
    "ax2.set_ylabel('y')\n",
    "ax2.set_zlabel('z')\n",
    "    \n",
    "#circles\n",
    "ax3 = fig.add_subplot(323, projection='3d')\n",
    "grouped = df_circles.groupby('cluster')\n",
    "\n",
    "i = 0\n",
    "for key, group in grouped:\n",
    "    ax3.scatter(group['x'], group['y'], group['z'], color=colors[i])\n",
    "    i = i + 1       \n",
    "ax3.set_title('Circles 3D', fontdict=fontdict)\n",
    "ax3.set_xlabel('x')\n",
    "ax3.set_ylabel('y')\n",
    "ax3.set_zlabel('z')\n",
    "    \n",
    "#moons\n",
    "ax4 = fig.add_subplot(324)\n",
    "grouped = df_moons.groupby('cluster')\n",
    "i = 0\n",
    "for key, group in grouped:\n",
    "    group.plot(ax=ax4, kind='scatter', x='x', y='y', color=colors[i])\n",
    "    i = i + 1\n",
    "ax4.set_title('Moons', fontdict=fontdict)\n",
    "\n",
    "#moons\n",
    "ax5 = fig.add_subplot(325)\n",
    "grouped = df_moons.groupby('cluster')\n",
    "i = 0\n",
    "for key, group in grouped:\n",
    "    group.plot(ax=ax5, kind='scatter', x='x', y='y', color=colors[i])\n",
    "    i = i + 1\n",
    "ax5.set_title('Moons', fontdict=fontdict)\n"
   ]
  },
  {
   "cell_type": "markdown",
   "metadata": {},
   "source": []
  }
 ],
 "metadata": {
  "kernelspec": {
   "display_name": "Python 3",
   "language": "python",
   "name": "python3"
  },
  "language_info": {
   "codemirror_mode": {
    "name": "ipython",
    "version": 2
   },
   "file_extension": ".py",
   "mimetype": "text/x-python",
   "name": "python",
   "nbconvert_exporter": "python",
   "pygments_lexer": "ipython2",
   "version": "2.7.15"
  }
 },
 "nbformat": 4,
 "nbformat_minor": 2
}
